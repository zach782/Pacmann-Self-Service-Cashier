{
 "cells": [
  {
   "cell_type": "code",
   "execution_count": 15,
   "metadata": {},
   "outputs": [],
   "source": [
    "# memanggil modul_main dan class Transaction\n",
    "from modul_main import Transaction\n",
    "\n"
   ]
  },
  {
   "cell_type": "code",
   "execution_count": 16,
   "metadata": {},
   "outputs": [
    {
     "name": "stdout",
     "output_type": "stream",
     "text": [
      "\n",
      "Isi keranjang:\n",
      "+------+---------------+----------+--------------+---------------+\n",
      "|   No | Nama Barang   |   Jumlah |   Harga/Item |   Harga Total |\n",
      "+======+===============+==========+==============+===============+\n",
      "|    1 | Ayam Goreng   |        2 |        20000 |         40000 |\n",
      "+------+---------------+----------+--------------+---------------+\n",
      "\n",
      "Isi keranjang:\n",
      "+------+---------------+----------+--------------+---------------+\n",
      "|   No | Nama Barang   |   Jumlah |   Harga/Item |   Harga Total |\n",
      "+======+===============+==========+==============+===============+\n",
      "|    1 | Ayam Goreng   |        2 |        20000 |         40000 |\n",
      "+------+---------------+----------+--------------+---------------+\n",
      "|    2 | Pasta Gigi    |        3 |        15000 |         45000 |\n",
      "+------+---------------+----------+--------------+---------------+\n"
     ]
    }
   ],
   "source": [
    "# Inisialisasi objek trnsct_123 yang akan melakukan transaksi\n",
    "trnsct_123 = Transaction()\n",
    "\n",
    "# objek trnsct menggunakan fungsi add_item untuk menginput item\n",
    "trnsct_123.add_item(1, \"Ayam Goreng\", 2, 20000)\n",
    "trnsct_123.add_item(2, \"Pasta Gigi\", 3, 15000)\n"
   ]
  },
  {
   "cell_type": "code",
   "execution_count": 18,
   "metadata": {},
   "outputs": [
    {
     "name": "stdout",
     "output_type": "stream",
     "text": [
      "\n",
      "Isi keranjang Setelah Item dihapus:\n",
      "+------+---------------+----------+---------+---------------+\n",
      "|   No | Nama Barang   |   Jumlah |   Harga |   Harga Total |\n",
      "+======+===============+==========+=========+===============+\n",
      "|    1 | Ayam Goreng   |        2 |   20000 |         40000 |\n",
      "+------+---------------+----------+---------+---------------+\n"
     ]
    }
   ],
   "source": [
    "# objek trnsct_123 menggunakan fungsi delete_item untuk menghapus item berdasarkan nama\n",
    "trnsct_123.delete_item(\"Pasta Gigi\")"
   ]
  },
  {
   "cell_type": "code",
   "execution_count": 19,
   "metadata": {},
   "outputs": [
    {
     "name": "stdout",
     "output_type": "stream",
     "text": [
      "\n",
      "Transaction telah di-reset. self.self.keranjang kosong.\n",
      "Isi keranjang:\n",
      "+------+---------------+----------+--------------+---------------+\n",
      "| No   | Nama Barang   | Jumlah   | Harga/Item   | Harga Total   |\n",
      "+======+===============+==========+==============+===============+\n",
      "+------+---------------+----------+--------------+---------------+\n"
     ]
    }
   ],
   "source": [
    "# objek trnsct menggunakan fungsi reset_transaction untuk menghapus semua item yang telah masuk ke keranjang\n",
    "trnsct_123.reset_transaction()"
   ]
  },
  {
   "cell_type": "code",
   "execution_count": 20,
   "metadata": {},
   "outputs": [
    {
     "name": "stdout",
     "output_type": "stream",
     "text": [
      "\n",
      "Isi keranjang:\n",
      "+------+---------------+----------+--------------+---------------+\n",
      "|   No | Nama Barang   |   Jumlah |   Harga/Item |   Harga Total |\n",
      "+======+===============+==========+==============+===============+\n",
      "|    1 | Ayam Goreng   |        2 |        20000 |         40000 |\n",
      "+------+---------------+----------+--------------+---------------+\n",
      "\n",
      "Isi keranjang:\n",
      "+------+---------------+----------+--------------+---------------+\n",
      "|   No | Nama Barang   |   Jumlah |   Harga/Item |   Harga Total |\n",
      "+======+===============+==========+==============+===============+\n",
      "|    1 | Ayam Goreng   |        2 |        20000 |         40000 |\n",
      "+------+---------------+----------+--------------+---------------+\n",
      "|    2 | Pasta Gigi    |        3 |        15000 |         45000 |\n",
      "+------+---------------+----------+--------------+---------------+\n",
      "\n",
      "Isi keranjang:\n",
      "+------+---------------+----------+--------------+---------------+\n",
      "|   No | Nama Barang   |   Jumlah |   Harga/Item |   Harga Total |\n",
      "+======+===============+==========+==============+===============+\n",
      "|    1 | Ayam Goreng   |        2 |        20000 |         40000 |\n",
      "+------+---------------+----------+--------------+---------------+\n",
      "|    2 | Pasta Gigi    |        3 |        15000 |         45000 |\n",
      "+------+---------------+----------+--------------+---------------+\n",
      "|    3 | Mainan Mobil  |        1 |       200000 |        200000 |\n",
      "+------+---------------+----------+--------------+---------------+\n",
      "\n",
      "Isi keranjang:\n",
      "+------+---------------+----------+--------------+---------------+\n",
      "|   No | Nama Barang   |   Jumlah |   Harga/Item |   Harga Total |\n",
      "+======+===============+==========+==============+===============+\n",
      "|    1 | Ayam Goreng   |        2 |        20000 |         40000 |\n",
      "+------+---------------+----------+--------------+---------------+\n",
      "|    2 | Pasta Gigi    |        3 |        15000 |         45000 |\n",
      "+------+---------------+----------+--------------+---------------+\n",
      "|    3 | Mainan Mobil  |        1 |       200000 |        200000 |\n",
      "+------+---------------+----------+--------------+---------------+\n",
      "|    4 | Mi Instan     |        5 |         3000 |         15000 |\n",
      "+------+---------------+----------+--------------+---------------+\n"
     ]
    }
   ],
   "source": [
    "# objek trnsct menggunakan fungsi add_item untuk menginput item\n",
    "trnsct_123.add_item(1, \"Ayam Goreng\", 2, 20000)\n",
    "trnsct_123.add_item(2, \"Pasta Gigi\", 3, 15000)\n",
    "trnsct_123.add_item(3, \"Mainan Mobil\", 1, 200000)\n",
    "trnsct_123.add_item(4, \"Mi Instan\", 5, 3000)\n"
   ]
  },
  {
   "cell_type": "code",
   "execution_count": 21,
   "metadata": {},
   "outputs": [
    {
     "name": "stdout",
     "output_type": "stream",
     "text": [
      "\n",
      "Anda Mendapat diskon sebesar 5%,\n",
      "Isi keranjang Total Harga Yang Harus Dibayarkan:\n",
      "+------+---------------+----------+--------------+---------------+\n",
      "|   No | Nama Barang   |   Jumlah |   Harga/Item |   Harga Total |\n",
      "+======+===============+==========+==============+===============+\n",
      "|    1 | Ayam Goreng   |        2 |        20000 |         40000 |\n",
      "+------+---------------+----------+--------------+---------------+\n",
      "|    2 | Pasta Gigi    |        3 |        15000 |         45000 |\n",
      "+------+---------------+----------+--------------+---------------+\n",
      "|    3 | Mainan Mobil  |        1 |       200000 |        200000 |\n",
      "+------+---------------+----------+--------------+---------------+\n",
      "|    4 | Mi Instan     |        5 |         3000 |         15000 |\n",
      "+------+---------------+----------+--------------+---------------+\n",
      "\n",
      "Total Belanja Anda Sebesar: Rp 285000.0\n",
      "\n"
     ]
    }
   ],
   "source": [
    "# objek trnsct_123 menggunakan fungsi total_price untuk melihat semua total harga item yang mau dibeli\n",
    "trnsct_123.total_price()\n"
   ]
  }
 ],
 "metadata": {
  "interpreter": {
   "hash": "aee8b7b246df8f9039afb4144a1f6fd8d2ca17a180786b69acc140d282b71a49"
  },
  "kernelspec": {
   "display_name": "Python 3.10.4 64-bit",
   "language": "python",
   "name": "python3"
  },
  "language_info": {
   "codemirror_mode": {
    "name": "ipython",
    "version": 3
   },
   "file_extension": ".py",
   "mimetype": "text/x-python",
   "name": "python",
   "nbconvert_exporter": "python",
   "pygments_lexer": "ipython3",
   "version": "3.10.4"
  },
  "orig_nbformat": 4
 },
 "nbformat": 4,
 "nbformat_minor": 2
}
