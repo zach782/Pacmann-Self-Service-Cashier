{
 "cells": [
  {
   "cell_type": "code",
   "execution_count": 5,
   "metadata": {},
   "outputs": [],
   "source": [
    "from main import Transaction\n",
    "\n"
   ]
  },
  {
   "cell_type": "code",
   "execution_count": 6,
   "metadata": {},
   "outputs": [
    {
     "name": "stdout",
     "output_type": "stream",
     "text": [
      "\n",
      "Anda Tidak Mendapat Diskon,\n",
      "Isi keranjang Total Harga Yang Harus Dibayarkan:\n",
      "+------+---------------+----------+--------------+---------------+\n",
      "|   No | Nama Barang   |   Jumlah |   Harga/Item |   Harga Total |\n",
      "+======+===============+==========+==============+===============+\n",
      "|    1 | Ayam Goreng   |        2 |        20000 |         40000 |\n",
      "+------+---------------+----------+--------------+---------------+\n",
      "\n",
      "Total Belanja Anda Sebesar: Rp 40000\n",
      "\n",
      "\n",
      "Anda Tidak Mendapat Diskon,\n",
      "Isi keranjang Total Harga Yang Harus Dibayarkan:\n",
      "+------+---------------+----------+--------------+---------------+\n",
      "|   No | Nama Barang   |   Jumlah |   Harga/Item |   Harga Total |\n",
      "+======+===============+==========+==============+===============+\n",
      "|    1 | Ayam Goreng   |        2 |        20000 |         40000 |\n",
      "+------+---------------+----------+--------------+---------------+\n",
      "|    2 | Pasta Gigi    |        3 |        15000 |         45000 |\n",
      "+------+---------------+----------+--------------+---------------+\n",
      "\n",
      "Total Belanja Anda Sebesar: Rp 85000\n",
      "\n"
     ]
    }
   ],
   "source": [
    "trnsct_123 = Transaction()\n",
    "\n",
    "trnsct_123.add_item(1, \"Ayam Goreng\", 2, 20000)\n",
    "trnsct_123.add_item(2, \"Pasta Gigi\", 3, 15000)\n",
    "\n"
   ]
  },
  {
   "cell_type": "code",
   "execution_count": 7,
   "metadata": {},
   "outputs": [
    {
     "name": "stdout",
     "output_type": "stream",
     "text": [
      "\n",
      "Anda Tidak Mendapat Diskon,\n",
      "Isi keranjang Total Harga Yang Harus Dibayarkan:\n",
      "+------+---------------+----------+--------------+---------------+\n",
      "|   No | Nama Barang   |   Jumlah |   Harga/Item |   Harga Total |\n",
      "+======+===============+==========+==============+===============+\n",
      "|    1 | Ayam Goreng   |        2 |        20000 |         40000 |\n",
      "+------+---------------+----------+--------------+---------------+\n",
      "\n",
      "Total Belanja Anda Sebesar: Rp 40000\n",
      "\n"
     ]
    }
   ],
   "source": [
    "trnsct_123.delete_item(\"Pasta Gigi\")"
   ]
  },
  {
   "cell_type": "code",
   "execution_count": 12,
   "metadata": {},
   "outputs": [
    {
     "name": "stdout",
     "output_type": "stream",
     "text": [
      "\n",
      "Transaction telah di-reset. self.self.keranjang kosong.\n",
      "Isi keranjang:\n",
      "+------+---------------+----------+--------------+---------------+\n",
      "| No   | Nama Barang   | Jumlah   | Harga/Item   | Harga Total   |\n",
      "+======+===============+==========+==============+===============+\n",
      "+------+---------------+----------+--------------+---------------+\n",
      "\n",
      "Anda Tidak Mendapat Diskon,\n",
      "Isi keranjang Total Harga Yang Harus Dibayarkan:\n",
      "+------+---------------+----------+--------------+---------------+\n",
      "|   No | Nama Barang   |   Jumlah |   Harga/Item |   Harga Total |\n",
      "+======+===============+==========+==============+===============+\n",
      "|    1 | Ayam Goreng   |        2 |        20000 |         40000 |\n",
      "+------+---------------+----------+--------------+---------------+\n",
      "\n",
      "Total Belanja Anda Sebesar: Rp 40000\n",
      "\n",
      "\n",
      "Anda Tidak Mendapat Diskon,\n",
      "Isi keranjang Total Harga Yang Harus Dibayarkan:\n",
      "+------+---------------+----------+--------------+---------------+\n",
      "|   No | Nama Barang   |   Jumlah |   Harga/Item |   Harga Total |\n",
      "+======+===============+==========+==============+===============+\n",
      "|    1 | Ayam Goreng   |        2 |        20000 |         40000 |\n",
      "+------+---------------+----------+--------------+---------------+\n",
      "|    2 | Pasta Gigi    |        3 |        15000 |         45000 |\n",
      "+------+---------------+----------+--------------+---------------+\n",
      "\n",
      "Total Belanja Anda Sebesar: Rp 85000\n",
      "\n",
      "\n",
      "Anda Mendapat diskon sebesar 5%,\n",
      "Isi keranjang Total Harga Yang Harus Dibayarkan:\n",
      "+------+---------------+----------+--------------+---------------+\n",
      "|   No | Nama Barang   |   Jumlah |   Harga/Item |   Harga Total |\n",
      "+======+===============+==========+==============+===============+\n",
      "|    1 | Ayam Goreng   |        2 |        20000 |         40000 |\n",
      "+------+---------------+----------+--------------+---------------+\n",
      "|    2 | Pasta Gigi    |        3 |        15000 |         45000 |\n",
      "+------+---------------+----------+--------------+---------------+\n",
      "|    3 | Mainan Mobil  |        1 |       200000 |        200000 |\n",
      "+------+---------------+----------+--------------+---------------+\n",
      "\n",
      "Total Belanja Anda Sebesar: Rp 270750.0\n",
      "\n",
      "\n",
      "Anda Mendapat diskon sebesar 8%,\n",
      "Isi keranjang Total Harga Yang Harus Dibayarkan:\n",
      "+------+---------------+----------+--------------+---------------+\n",
      "|   No | Nama Barang   |   Jumlah |   Harga/Item |   Harga Total |\n",
      "+======+===============+==========+==============+===============+\n",
      "|    1 | Ayam Goreng   |        2 |        20000 |         40000 |\n",
      "+------+---------------+----------+--------------+---------------+\n",
      "|    2 | Pasta Gigi    |        3 |        15000 |         45000 |\n",
      "+------+---------------+----------+--------------+---------------+\n",
      "|    3 | Mainan Mobil  |        1 |       200000 |        200000 |\n",
      "+------+---------------+----------+--------------+---------------+\n",
      "|    4 | Mi Instan     |        5 |         5000 |         25000 |\n",
      "+------+---------------+----------+--------------+---------------+\n",
      "\n",
      "Total Belanja Anda Sebesar: Rp 285200.0\n",
      "\n"
     ]
    }
   ],
   "source": [
    "trnsct_123.reset_transaction()\n",
    "trnsct_123.add_item(1, \"Ayam Goreng\", 2, 20000)\n",
    "trnsct_123.add_item(2, \"Pasta Gigi\", 3, 15000)\n",
    "trnsct_123.add_item(3, \"Mainan Mobil\", 1, 200000)\n",
    "trnsct_123.add_item(4, \"Mi Instan\", 5, 5000)"
   ]
  },
  {
   "cell_type": "code",
   "execution_count": 10,
   "metadata": {},
   "outputs": [
    {
     "name": "stdout",
     "output_type": "stream",
     "text": [
      "\n",
      "Anda Mendapat diskon sebesar 8%,\n",
      "Isi keranjang Total Harga Yang Harus Dibayarkan:\n",
      "+------+---------------+----------+--------------+---------------+\n",
      "|   No | Nama Barang   |   Jumlah |   Harga/Item |   Harga Total |\n",
      "+======+===============+==========+==============+===============+\n",
      "|    1 | Ayam Goreng   |        2 |        20000 |         40000 |\n",
      "+------+---------------+----------+--------------+---------------+\n",
      "|    2 | Pasta Gigi    |        3 |        15000 |         45000 |\n",
      "+------+---------------+----------+--------------+---------------+\n",
      "|    3 | Mainan Mobil  |        1 |       200000 |        200000 |\n",
      "+------+---------------+----------+--------------+---------------+\n",
      "|    1 | Ayam Goreng   |        2 |        20000 |         40000 |\n",
      "+------+---------------+----------+--------------+---------------+\n",
      "\n",
      "Total Belanja Anda Sebesar: Rp 299000.0\n",
      "\n",
      "\n",
      "Anda Mendapat diskon sebesar 8%,\n",
      "Isi keranjang Total Harga Yang Harus Dibayarkan:\n",
      "+------+---------------+----------+--------------+---------------+\n",
      "|   No | Nama Barang   |   Jumlah |   Harga/Item |   Harga Total |\n",
      "+======+===============+==========+==============+===============+\n",
      "|    1 | Ayam Goreng   |        2 |        20000 |         40000 |\n",
      "+------+---------------+----------+--------------+---------------+\n",
      "|    2 | Pasta Gigi    |        3 |        15000 |         45000 |\n",
      "+------+---------------+----------+--------------+---------------+\n",
      "|    3 | Mainan Mobil  |        1 |       200000 |        200000 |\n",
      "+------+---------------+----------+--------------+---------------+\n",
      "|    1 | Ayam Goreng   |        2 |        20000 |         40000 |\n",
      "+------+---------------+----------+--------------+---------------+\n",
      "|    2 | Pasta Gigi    |        3 |        15000 |         45000 |\n",
      "+------+---------------+----------+--------------+---------------+\n",
      "\n",
      "Total Belanja Anda Sebesar: Rp 340400.0\n",
      "\n",
      "\n",
      "Anda Mendapat diskon sebesar 10%,\n",
      "Isi keranjang Total Harga Yang Harus Dibayarkan:\n",
      "+------+---------------+----------+--------------+---------------+\n",
      "|   No | Nama Barang   |   Jumlah |   Harga/Item |   Harga Total |\n",
      "+======+===============+==========+==============+===============+\n",
      "|    1 | Ayam Goreng   |        2 |        20000 |         40000 |\n",
      "+------+---------------+----------+--------------+---------------+\n",
      "|    2 | Pasta Gigi    |        3 |        15000 |         45000 |\n",
      "+------+---------------+----------+--------------+---------------+\n",
      "|    3 | Mainan Mobil  |        1 |       200000 |        200000 |\n",
      "+------+---------------+----------+--------------+---------------+\n",
      "|    1 | Ayam Goreng   |        2 |        20000 |         40000 |\n",
      "+------+---------------+----------+--------------+---------------+\n",
      "|    2 | Pasta Gigi    |        3 |        15000 |         45000 |\n",
      "+------+---------------+----------+--------------+---------------+\n",
      "|    3 | Mainan Mobil  |        1 |       200000 |        200000 |\n",
      "+------+---------------+----------+--------------+---------------+\n",
      "\n",
      "Total Belanja Anda Sebesar: Rp 513000.0\n",
      "\n",
      "\n",
      "Anda Mendapat diskon sebesar 10%,\n",
      "Isi keranjang Total Harga Yang Harus Dibayarkan:\n",
      "+------+---------------+----------+--------------+---------------+\n",
      "|   No | Nama Barang   |   Jumlah |   Harga/Item |   Harga Total |\n",
      "+======+===============+==========+==============+===============+\n",
      "|    1 | Ayam Goreng   |        2 |        20000 |         40000 |\n",
      "+------+---------------+----------+--------------+---------------+\n",
      "|    2 | Pasta Gigi    |        3 |        15000 |         45000 |\n",
      "+------+---------------+----------+--------------+---------------+\n",
      "|    3 | Mainan Mobil  |        1 |       200000 |        200000 |\n",
      "+------+---------------+----------+--------------+---------------+\n",
      "|    1 | Ayam Goreng   |        2 |        20000 |         40000 |\n",
      "+------+---------------+----------+--------------+---------------+\n",
      "|    2 | Pasta Gigi    |        3 |        15000 |         45000 |\n",
      "+------+---------------+----------+--------------+---------------+\n",
      "|    3 | Mainan Mobil  |        1 |       200000 |        200000 |\n",
      "+------+---------------+----------+--------------+---------------+\n",
      "|    4 | Mi Instan     |        5 |         5000 |         25000 |\n",
      "+------+---------------+----------+--------------+---------------+\n",
      "\n",
      "Total Belanja Anda Sebesar: Rp 535500.0\n",
      "\n"
     ]
    }
   ],
   "source": [
    "\n"
   ]
  },
  {
   "cell_type": "code",
   "execution_count": 14,
   "metadata": {},
   "outputs": [
    {
     "name": "stdout",
     "output_type": "stream",
     "text": [
      "\n",
      "Anda Mendapat diskon sebesar 8%,\n",
      "Isi keranjang Total Harga Yang Harus Dibayarkan:\n",
      "+------+---------------+----------+--------------+---------------+\n",
      "|   No | Nama Barang   |   Jumlah |   Harga/Item |   Harga Total |\n",
      "+======+===============+==========+==============+===============+\n",
      "|    1 | Ayam Goreng   |        2 |        20000 |         40000 |\n",
      "+------+---------------+----------+--------------+---------------+\n",
      "|    2 | Pasta Gigi    |        3 |        15000 |         45000 |\n",
      "+------+---------------+----------+--------------+---------------+\n",
      "|    3 | Mainan Mobil  |        1 |       200000 |        200000 |\n",
      "+------+---------------+----------+--------------+---------------+\n",
      "|    4 | Mi Instan     |        5 |         5000 |         25000 |\n",
      "+------+---------------+----------+--------------+---------------+\n",
      "\n",
      "Total Belanja Anda Sebesar: Rp 285200.0\n",
      "\n"
     ]
    }
   ],
   "source": [
    "trnsct_123.total_price()\n"
   ]
  }
 ],
 "metadata": {
  "interpreter": {
   "hash": "aee8b7b246df8f9039afb4144a1f6fd8d2ca17a180786b69acc140d282b71a49"
  },
  "kernelspec": {
   "display_name": "Python 3.10.4 64-bit",
   "language": "python",
   "name": "python3"
  },
  "language_info": {
   "codemirror_mode": {
    "name": "ipython",
    "version": 3
   },
   "file_extension": ".py",
   "mimetype": "text/x-python",
   "name": "python",
   "nbconvert_exporter": "python",
   "pygments_lexer": "ipython3",
   "version": "3.10.4"
  },
  "orig_nbformat": 4
 },
 "nbformat": 4,
 "nbformat_minor": 2
}
