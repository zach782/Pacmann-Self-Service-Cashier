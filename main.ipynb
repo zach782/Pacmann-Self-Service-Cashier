{
 "cells": [
  {
   "cell_type": "code",
   "execution_count": 6,
   "metadata": {},
   "outputs": [],
   "source": [
    "from cashier import Transaction\n",
    "\n"
   ]
  },
  {
   "cell_type": "code",
   "execution_count": 10,
   "metadata": {},
   "outputs": [
    {
     "name": "stdout",
     "output_type": "stream",
     "text": [
      "\n",
      "Anda Tidak Mendapat Diskon,\n",
      "Isi keranjang Total Harga Yang Harus Dibayarkan:\n",
      "+------+---------------+----------+--------------+---------------+\n",
      "|   No | Nama Barang   |   Jumlah |   Harga/Item |   Harga Total |\n",
      "+======+===============+==========+==============+===============+\n",
      "|    1 | Ayam Goreng   |        2 |        20000 |         40000 |\n",
      "+------+---------------+----------+--------------+---------------+\n",
      "\n",
      "Total Belanja Anda Sebesar: Rp 40000\n",
      "\n",
      "\n",
      "Anda Tidak Mendapat Diskon,\n",
      "Isi keranjang Total Harga Yang Harus Dibayarkan:\n",
      "+------+---------------+----------+--------------+---------------+\n",
      "|   No | Nama Barang   |   Jumlah |   Harga/Item |   Harga Total |\n",
      "+======+===============+==========+==============+===============+\n",
      "|    1 | Ayam Goreng   |        2 |        20000 |         40000 |\n",
      "+------+---------------+----------+--------------+---------------+\n",
      "|    2 | Pasta Gigi    |        3 |        15000 |         45000 |\n",
      "+------+---------------+----------+--------------+---------------+\n",
      "\n",
      "Total Belanja Anda Sebesar: Rp 85000\n",
      "\n"
     ]
    }
   ],
   "source": [
    "trnsct_123 = Transaction()\n",
    "\n",
    "trnsct_123.add_item(1, \"Ayam Goreng\", 2, 20000)\n",
    "trnsct_123.add_item(2, \"Pasta Gigi\", 3, 15000)"
   ]
  },
  {
   "cell_type": "code",
   "execution_count": 9,
   "metadata": {},
   "outputs": [
    {
     "name": "stdout",
     "output_type": "stream",
     "text": [
      "\n",
      "Anda Tidak Mendapat Diskon,\n",
      "Isi keranjang Total Harga Yang Harus Dibayarkan:\n",
      "+------+---------------+----------+--------------+---------------+\n",
      "|   No | Nama Barang   |   Jumlah |   Harga/Item |   Harga Total |\n",
      "+======+===============+==========+==============+===============+\n",
      "|    1 | Ayam Goreng   |        2 |        20000 |         40000 |\n",
      "+------+---------------+----------+--------------+---------------+\n",
      "\n",
      "Total Belanja Anda Sebesar: Rp 40000\n",
      "\n"
     ]
    }
   ],
   "source": [
    "trnsct_123.delete_item(\"Pasta Gigi\")"
   ]
  }
 ],
 "metadata": {
  "interpreter": {
   "hash": "bd385fe162c5ca0c84973b7dd5c518456272446b2b64e67c2a69f949ca7a1754"
  },
  "kernelspec": {
   "display_name": "Python 3.10.11 64-bit",
   "language": "python",
   "name": "python3"
  },
  "language_info": {
   "codemirror_mode": {
    "name": "ipython",
    "version": 3
   },
   "file_extension": ".py",
   "mimetype": "text/x-python",
   "name": "python",
   "nbconvert_exporter": "python",
   "pygments_lexer": "ipython3",
   "version": "3.10.11"
  },
  "orig_nbformat": 4
 },
 "nbformat": 4,
 "nbformat_minor": 2
}
